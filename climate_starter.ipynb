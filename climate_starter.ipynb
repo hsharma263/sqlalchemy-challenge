{
 "cells": [
  {
   "cell_type": "code",
   "execution_count": 1,
   "metadata": {},
   "outputs": [],
   "source": [
    "%matplotlib inline\n",
    "from matplotlib import style\n",
    "style.use('fivethirtyeight')\n",
    "import matplotlib.pyplot as plt"
   ]
  },
  {
   "cell_type": "code",
   "execution_count": 2,
   "metadata": {},
   "outputs": [],
   "source": [
    "import numpy as np\n",
    "import pandas as pd\n",
    "import datetime as dt"
   ]
  },
  {
   "cell_type": "markdown",
   "metadata": {},
   "source": [
    "# Reflect Tables into SQLAlchemy ORM"
   ]
  },
  {
   "cell_type": "code",
   "execution_count": 3,
   "metadata": {},
   "outputs": [],
   "source": [
    "# Python SQL toolkit and Object Relational Mapper\n",
    "import sqlalchemy\n",
    "from sqlalchemy.ext.automap import automap_base\n",
    "from sqlalchemy.orm import Session\n",
    "from sqlalchemy import create_engine, func, inspect"
   ]
  },
  {
   "cell_type": "code",
   "execution_count": 4,
   "metadata": {},
   "outputs": [],
   "source": [
    "# create engine to hawaii.sqlite\n",
    "engine = create_engine(\"sqlite:///Resources/hawaii.sqlite\")\n",
    "conn = engine.connect()"
   ]
  },
  {
   "cell_type": "code",
   "execution_count": 5,
   "metadata": {},
   "outputs": [],
   "source": [
    "inspector = inspect(engine)"
   ]
  },
  {
   "cell_type": "code",
   "execution_count": 6,
   "metadata": {},
   "outputs": [
    {
     "data": {
      "text/plain": [
       "['measurement', 'station']"
      ]
     },
     "execution_count": 6,
     "metadata": {},
     "output_type": "execute_result"
    }
   ],
   "source": [
    "inspector.get_table_names()"
   ]
  },
  {
   "cell_type": "code",
   "execution_count": 13,
   "metadata": {},
   "outputs": [
    {
     "data": {
      "text/html": [
       "<div>\n",
       "<style scoped>\n",
       "    .dataframe tbody tr th:only-of-type {\n",
       "        vertical-align: middle;\n",
       "    }\n",
       "\n",
       "    .dataframe tbody tr th {\n",
       "        vertical-align: top;\n",
       "    }\n",
       "\n",
       "    .dataframe thead th {\n",
       "        text-align: right;\n",
       "    }\n",
       "</style>\n",
       "<table border=\"1\" class=\"dataframe\">\n",
       "  <thead>\n",
       "    <tr style=\"text-align: right;\">\n",
       "      <th></th>\n",
       "      <th>id</th>\n",
       "      <th>station</th>\n",
       "      <th>date</th>\n",
       "      <th>prcp</th>\n",
       "      <th>tobs</th>\n",
       "    </tr>\n",
       "  </thead>\n",
       "  <tbody>\n",
       "    <tr>\n",
       "      <th>0</th>\n",
       "      <td>1</td>\n",
       "      <td>USC00519397</td>\n",
       "      <td>2010-01-01</td>\n",
       "      <td>0.08</td>\n",
       "      <td>65.0</td>\n",
       "    </tr>\n",
       "    <tr>\n",
       "      <th>1</th>\n",
       "      <td>2</td>\n",
       "      <td>USC00519397</td>\n",
       "      <td>2010-01-02</td>\n",
       "      <td>0.00</td>\n",
       "      <td>63.0</td>\n",
       "    </tr>\n",
       "    <tr>\n",
       "      <th>2</th>\n",
       "      <td>3</td>\n",
       "      <td>USC00519397</td>\n",
       "      <td>2010-01-03</td>\n",
       "      <td>0.00</td>\n",
       "      <td>74.0</td>\n",
       "    </tr>\n",
       "    <tr>\n",
       "      <th>3</th>\n",
       "      <td>4</td>\n",
       "      <td>USC00519397</td>\n",
       "      <td>2010-01-04</td>\n",
       "      <td>0.00</td>\n",
       "      <td>76.0</td>\n",
       "    </tr>\n",
       "    <tr>\n",
       "      <th>4</th>\n",
       "      <td>5</td>\n",
       "      <td>USC00519397</td>\n",
       "      <td>2010-01-06</td>\n",
       "      <td>NaN</td>\n",
       "      <td>73.0</td>\n",
       "    </tr>\n",
       "  </tbody>\n",
       "</table>\n",
       "</div>"
      ],
      "text/plain": [
       "   id      station        date  prcp  tobs\n",
       "0   1  USC00519397  2010-01-01  0.08  65.0\n",
       "1   2  USC00519397  2010-01-02  0.00  63.0\n",
       "2   3  USC00519397  2010-01-03  0.00  74.0\n",
       "3   4  USC00519397  2010-01-04  0.00  76.0\n",
       "4   5  USC00519397  2010-01-06   NaN  73.0"
      ]
     },
     "execution_count": 13,
     "metadata": {},
     "output_type": "execute_result"
    }
   ],
   "source": [
    "# reflect an existing database into a new model\n",
    "measurement_data = pd.read_sql(\"SELECT * FROM measurement\", conn)\n",
    "station_data = pd.read_sql(\"SELECT * FROM station\", conn)\n",
    "# reflect the tables\n",
    "measurement_data.head()"
   ]
  },
  {
   "cell_type": "code",
   "execution_count": 10,
   "metadata": {},
   "outputs": [
    {
     "data": {
      "text/html": [
       "<div>\n",
       "<style scoped>\n",
       "    .dataframe tbody tr th:only-of-type {\n",
       "        vertical-align: middle;\n",
       "    }\n",
       "\n",
       "    .dataframe tbody tr th {\n",
       "        vertical-align: top;\n",
       "    }\n",
       "\n",
       "    .dataframe thead th {\n",
       "        text-align: right;\n",
       "    }\n",
       "</style>\n",
       "<table border=\"1\" class=\"dataframe\">\n",
       "  <thead>\n",
       "    <tr style=\"text-align: right;\">\n",
       "      <th></th>\n",
       "      <th>id</th>\n",
       "      <th>station</th>\n",
       "      <th>name</th>\n",
       "      <th>latitude</th>\n",
       "      <th>longitude</th>\n",
       "      <th>elevation</th>\n",
       "    </tr>\n",
       "  </thead>\n",
       "  <tbody>\n",
       "    <tr>\n",
       "      <th>0</th>\n",
       "      <td>1</td>\n",
       "      <td>USC00519397</td>\n",
       "      <td>WAIKIKI 717.2, HI US</td>\n",
       "      <td>21.2716</td>\n",
       "      <td>-157.8168</td>\n",
       "      <td>3.0</td>\n",
       "    </tr>\n",
       "    <tr>\n",
       "      <th>1</th>\n",
       "      <td>2</td>\n",
       "      <td>USC00513117</td>\n",
       "      <td>KANEOHE 838.1, HI US</td>\n",
       "      <td>21.4234</td>\n",
       "      <td>-157.8015</td>\n",
       "      <td>14.6</td>\n",
       "    </tr>\n",
       "    <tr>\n",
       "      <th>2</th>\n",
       "      <td>3</td>\n",
       "      <td>USC00514830</td>\n",
       "      <td>KUALOA RANCH HEADQUARTERS 886.9, HI US</td>\n",
       "      <td>21.5213</td>\n",
       "      <td>-157.8374</td>\n",
       "      <td>7.0</td>\n",
       "    </tr>\n",
       "    <tr>\n",
       "      <th>3</th>\n",
       "      <td>4</td>\n",
       "      <td>USC00517948</td>\n",
       "      <td>PEARL CITY, HI US</td>\n",
       "      <td>21.3934</td>\n",
       "      <td>-157.9751</td>\n",
       "      <td>11.9</td>\n",
       "    </tr>\n",
       "    <tr>\n",
       "      <th>4</th>\n",
       "      <td>5</td>\n",
       "      <td>USC00518838</td>\n",
       "      <td>UPPER WAHIAWA 874.3, HI US</td>\n",
       "      <td>21.4992</td>\n",
       "      <td>-158.0111</td>\n",
       "      <td>306.6</td>\n",
       "    </tr>\n",
       "  </tbody>\n",
       "</table>\n",
       "</div>"
      ],
      "text/plain": [
       "   id      station                                    name  latitude  \\\n",
       "0   1  USC00519397                    WAIKIKI 717.2, HI US   21.2716   \n",
       "1   2  USC00513117                    KANEOHE 838.1, HI US   21.4234   \n",
       "2   3  USC00514830  KUALOA RANCH HEADQUARTERS 886.9, HI US   21.5213   \n",
       "3   4  USC00517948                       PEARL CITY, HI US   21.3934   \n",
       "4   5  USC00518838              UPPER WAHIAWA 874.3, HI US   21.4992   \n",
       "\n",
       "   longitude  elevation  \n",
       "0  -157.8168        3.0  \n",
       "1  -157.8015       14.6  \n",
       "2  -157.8374        7.0  \n",
       "3  -157.9751       11.9  \n",
       "4  -158.0111      306.6  "
      ]
     },
     "execution_count": 10,
     "metadata": {},
     "output_type": "execute_result"
    }
   ],
   "source": [
    "station_data.head()"
   ]
  },
  {
   "cell_type": "code",
   "execution_count": 12,
   "metadata": {},
   "outputs": [
    {
     "data": {
      "text/plain": [
       "['measurement', 'station']"
      ]
     },
     "execution_count": 12,
     "metadata": {},
     "output_type": "execute_result"
    }
   ],
   "source": [
    "# View all of the classes that automap found\n",
    "Base = automap_base()\n",
    "Base.prepare(engine, reflect=True)\n",
    "Base.classes.keys()"
   ]
  },
  {
   "cell_type": "code",
   "execution_count": 28,
   "metadata": {},
   "outputs": [],
   "source": [
    "# Save references to each table\n",
    "Measurement = Base.classes.measurement\n",
    "Station = Base.classes.station"
   ]
  },
  {
   "cell_type": "code",
   "execution_count": 29,
   "metadata": {},
   "outputs": [],
   "source": [
    "# Create our session (link) from Python to the DB\n",
    "session = Session(bind=engine)"
   ]
  },
  {
   "cell_type": "markdown",
   "metadata": {},
   "source": [
    "# Exploratory Precipitation Analysis"
   ]
  },
  {
   "cell_type": "code",
   "execution_count": 30,
   "metadata": {},
   "outputs": [
    {
     "name": "stdout",
     "output_type": "stream",
     "text": [
      "id INTEGER\n",
      "station TEXT\n",
      "date TEXT\n",
      "prcp FLOAT\n",
      "tobs FLOAT\n"
     ]
    }
   ],
   "source": [
    "# Find the most recent date in the data set.\n",
    "columns = inspector.get_columns(\"measurement\")\n",
    "for col in columns:\n",
    "    print(col[\"name\"], col[\"type\"])"
   ]
  },
  {
   "cell_type": "code",
   "execution_count": 54,
   "metadata": {},
   "outputs": [],
   "source": [
    "#print(type(measurement_data))\n",
    "measurement_data[\"date\"] = pd.to_datetime(measurement_data[\"date\"], \"%Y-%m-%d\")\n",
    "# measurement_data[\"date\"] = dt.datetime.strptime(measurement_data[\"date\"], \"%Y-%m-%d\")"
   ]
  },
  {
   "cell_type": "code",
   "execution_count": 56,
   "metadata": {},
   "outputs": [
    {
     "data": {
      "text/plain": [
       "('2010-01-01')"
      ]
     },
     "execution_count": 56,
     "metadata": {},
     "output_type": "execute_result"
    }
   ],
   "source": [
    "earliest_date = session.query(Measurement.date).first()\n",
    "earliest_date"
   ]
  },
  {
   "cell_type": "code",
   "execution_count": 80,
   "metadata": {},
   "outputs": [
    {
     "data": {
      "text/plain": [
       "('2017-08-23')"
      ]
     },
     "execution_count": 80,
     "metadata": {},
     "output_type": "execute_result"
    }
   ],
   "source": [
    "latest_date = session.query(Measurement.date).order_by(Measurement.date.desc()).first()\n",
    "latest_date"
   ]
  },
  {
   "cell_type": "code",
   "execution_count": 82,
   "metadata": {},
   "outputs": [
    {
     "data": {
      "text/plain": [
       "sqlalchemy.util._collections.result"
      ]
     },
     "execution_count": 82,
     "metadata": {},
     "output_type": "execute_result"
    }
   ],
   "source": [
    "type(latest_date)"
   ]
  },
  {
   "cell_type": "code",
   "execution_count": 96,
   "metadata": {},
   "outputs": [
    {
     "data": {
      "text/plain": [
       "str"
      ]
     },
     "execution_count": 96,
     "metadata": {},
     "output_type": "execute_result"
    }
   ],
   "source": [
    "type(latest_date_str)"
   ]
  },
  {
   "cell_type": "code",
   "execution_count": 118,
   "metadata": {},
   "outputs": [
    {
     "data": {
      "text/plain": [
       "'2017-08-23'"
      ]
     },
     "execution_count": 118,
     "metadata": {},
     "output_type": "execute_result"
    }
   ],
   "source": [
    "latest_date[0]"
   ]
  },
  {
   "cell_type": "code",
   "execution_count": 119,
   "metadata": {},
   "outputs": [],
   "source": [
    "latest_date_dt = dt.datetime.strptime(latest_date[0], \"%Y-%m-%d\")"
   ]
  },
  {
   "cell_type": "code",
   "execution_count": 34,
   "metadata": {},
   "outputs": [
    {
     "data": {
      "text/plain": [
       "{'_sa_instance_state': <sqlalchemy.orm.state.InstanceState at 0x7fa67a855520>,\n",
       " 'tobs': 65.0,\n",
       " 'date': '2010-01-01',\n",
       " 'id': 1,\n",
       " 'prcp': 0.08,\n",
       " 'station': 'USC00519397'}"
      ]
     },
     "execution_count": 34,
     "metadata": {},
     "output_type": "execute_result"
    }
   ],
   "source": [
    "first_row = session.query(Measurement).first()\n",
    "first_row.__dict__"
   ]
  },
  {
   "cell_type": "code",
   "execution_count": 48,
   "metadata": {},
   "outputs": [],
   "source": [
    "last_12_months = session.query(Measurement.date, Measurement.prcp)\n",
    "last_12_months_res = last_12_months.all()"
   ]
  },
  {
   "cell_type": "code",
   "execution_count": 43,
   "metadata": {},
   "outputs": [],
   "source": [
    "#last_12_months_res = last_12_months_res[::-1]"
   ]
  },
  {
   "cell_type": "code",
   "execution_count": 42,
   "metadata": {},
   "outputs": [
    {
     "data": {
      "text/plain": [
       "list"
      ]
     },
     "execution_count": 42,
     "metadata": {},
     "output_type": "execute_result"
    }
   ],
   "source": [
    "#type(last_12_months_res)"
   ]
  },
  {
   "cell_type": "code",
   "execution_count": 49,
   "metadata": {},
   "outputs": [
    {
     "name": "stdout",
     "output_type": "stream",
     "text": [
      "('2010-01-01', 0.08)\n",
      "('2010-01-02', 0.0)\n",
      "('2010-01-03', 0.0)\n",
      "('2010-01-04', 0.0)\n",
      "('2010-01-06', None)\n",
      "('2010-01-07', 0.06)\n",
      "('2010-01-08', 0.0)\n",
      "('2010-01-09', 0.0)\n",
      "('2010-01-10', 0.0)\n",
      "('2010-01-11', 0.01)\n",
      "('2010-01-12', 0.0)\n",
      "('2010-01-14', 0.0)\n",
      "('2010-01-15', 0.0)\n",
      "('2010-01-16', 0.0)\n",
      "('2010-01-17', 0.0)\n",
      "('2010-01-18', 0.0)\n",
      "('2010-01-19', 0.0)\n",
      "('2010-01-20', 0.0)\n",
      "('2010-01-21', 0.0)\n",
      "('2010-01-22', 0.0)\n",
      "('2010-01-23', 0.0)\n",
      "('2010-01-24', 0.01)\n",
      "('2010-01-25', 0.0)\n",
      "('2010-01-26', 0.04)\n",
      "('2010-01-27', 0.12)\n",
      "('2010-01-28', 0.0)\n",
      "('2010-01-30', None)\n",
      "('2010-01-31', 0.03)\n",
      "('2010-02-01', 0.01)\n",
      "('2010-02-03', None)\n",
      "('2010-02-04', 0.01)\n",
      "('2010-02-05', 0.0)\n",
      "('2010-02-06', 0.0)\n",
      "('2010-02-07', 0.0)\n",
      "('2010-02-08', 0.0)\n",
      "('2010-02-09', 0.0)\n",
      "('2010-02-11', 0.0)\n",
      "('2010-02-12', 0.02)\n",
      "('2010-02-13', 0.01)\n",
      "('2010-02-14', 0.0)\n",
      "('2010-02-15', 0.0)\n",
      "('2010-02-16', 0.0)\n",
      "('2010-02-17', 0.0)\n",
      "('2010-02-19', None)\n",
      "('2010-02-20', 0.03)\n",
      "('2010-02-21', 0.0)\n",
      "('2010-02-22', 0.0)\n",
      "('2010-02-23', 0.0)\n",
      "('2010-02-24', 0.0)\n",
      "('2010-02-25', 0.0)\n",
      "('2010-02-26', 0.0)\n",
      "('2010-02-28', 0.0)\n",
      "('2010-03-01', 0.01)\n",
      "('2010-03-02', 0.0)\n",
      "('2010-03-03', 0.0)\n",
      "('2010-03-04', 0.12)\n",
      "('2010-03-05', 0.08)\n",
      "('2010-03-06', 0.03)\n",
      "('2010-03-07', 0.0)\n",
      "('2010-03-08', 0.43)\n",
      "('2010-03-09', 0.06)\n",
      "('2010-03-11', None)\n",
      "('2010-03-12', 0.0)\n",
      "('2010-03-13', 0.0)\n",
      "('2010-03-14', 0.0)\n",
      "('2010-03-15', 0.06)\n",
      "('2010-03-17', 0.0)\n",
      "('2010-03-18', 0.0)\n",
      "('2010-03-21', 0.0)\n",
      "('2010-03-22', 0.0)\n",
      "('2010-03-23', 0.0)\n",
      "('2010-03-24', 0.0)\n",
      "('2010-03-26', None)\n",
      "('2010-03-27', 0.0)\n",
      "('2010-03-28', 0.0)\n",
      "('2010-03-29', 0.0)\n",
      "('2010-03-30', 0.0)\n",
      "('2010-03-31', 0.0)\n",
      "('2010-04-01', 0.0)\n",
      "('2010-04-02', 0.01)\n",
      "('2010-04-03', 0.17)\n",
      "('2010-04-04', 0.15)\n",
      "('2010-04-05', 0.27)\n",
      "('2010-04-06', 0.01)\n",
      "('2010-04-08', 0.0)\n",
      "('2010-04-09', 0.01)\n",
      "('2010-04-10', 0.0)\n",
      "('2010-04-11', 0.01)\n",
      "('2010-04-12', 0.01)\n",
      "('2010-04-13', 0.0)\n",
      "('2010-04-15', 0.0)\n",
      "('2010-04-16', 0.01)\n",
      "('2010-04-17', 0.0)\n",
      "('2010-04-18', 0.0)\n",
      "('2010-04-19', 0.0)\n",
      "('2010-04-20', 0.04)\n",
      "('2010-04-21', 0.01)\n",
      "('2010-04-22', 0.0)\n",
      "('2010-04-23', 0.02)\n",
      "('2010-04-24', 0.0)\n",
      "('2010-04-25', 0.0)\n",
      "('2010-04-26', 0.0)\n",
      "('2010-04-28', 0.0)\n",
      "('2010-04-30', 0.0)\n",
      "('2010-05-01', 0.0)\n",
      "('2010-05-02', 0.03)\n",
      "('2010-05-03', 0.2)\n",
      "('2010-05-04', 0.08)\n",
      "('2010-05-05', 0.01)\n",
      "('2010-05-06', 0.0)\n",
      "('2010-05-07', 0.05)\n",
      "('2010-05-08', 0.0)\n",
      "('2010-05-09', 0.0)\n",
      "('2010-05-10', 0.0)\n",
      "('2010-05-11', 0.0)\n",
      "('2010-05-13', 0.0)\n",
      "('2010-05-14', 0.0)\n",
      "('2010-05-15', 0.0)\n",
      "('2010-05-16', 0.03)\n",
      "('2010-05-17', 0.0)\n",
      "('2010-05-18', 0.0)\n",
      "('2010-05-19', 0.0)\n",
      "('2010-05-21', None)\n",
      "('2010-05-22', 0.0)\n",
      "('2010-05-23', 0.05)\n",
      "('2010-05-24', 0.0)\n",
      "('2010-05-25', 0.0)\n",
      "('2010-05-26', 0.02)\n",
      "('2010-05-27', 0.0)\n",
      "('2010-05-28', 0.0)\n",
      "('2010-05-29', 0.0)\n",
      "('2010-05-30', 0.0)\n",
      "('2010-05-31', 0.0)\n",
      "('2010-06-01', 0.0)\n",
      "('2010-06-02', 0.01)\n",
      "('2010-06-03', 0.0)\n",
      "('2010-06-04', 0.0)\n",
      "('2010-06-05', 0.0)\n",
      "('2010-06-06', 0.0)\n",
      "('2010-06-07', 0.0)\n",
      "('2010-06-08', 0.0)\n",
      "('2010-06-09', 0.0)\n",
      "('2010-06-10', 0.0)\n",
      "('2010-06-11', 0.0)\n",
      "('2010-06-12', 0.0)\n",
      "('2010-06-13', 0.0)\n",
      "('2010-06-14', 0.0)\n",
      "('2010-06-15', 0.0)\n",
      "('2010-06-16', 0.0)\n",
      "('2010-06-17', 0.0)\n",
      "('2010-06-18', 0.0)\n",
      "('2010-06-19', 0.0)\n",
      "('2010-06-20', 0.0)\n",
      "('2010-06-21', 0.0)\n",
      "('2010-06-22', 0.0)\n",
      "('2010-06-23', 0.0)\n",
      "('2010-06-24', 0.0)\n",
      "('2010-06-25', 0.0)\n",
      "('2010-06-26', 0.02)\n",
      "('2010-06-27', 0.0)\n",
      "('2010-06-28', 0.0)\n",
      "('2010-06-29', 0.0)\n",
      "('2010-06-30', 0.0)\n",
      "('2010-07-01', 0.01)\n",
      "('2010-07-02', 0.05)\n",
      "('2010-07-03', 0.09)\n",
      "('2010-07-04', 0.05)\n",
      "('2010-07-05', 0.06)\n",
      "('2010-07-06', 0.08)\n",
      "('2010-07-07', 0.08)\n",
      "('2010-07-08', 0.03)\n",
      "('2010-07-09', 0.06)\n",
      "('2010-07-10', 0.09)\n",
      "('2010-07-11', 0.0)\n",
      "('2010-07-12', 0.0)\n",
      "('2010-07-13', 0.0)\n",
      "('2010-07-16', None)\n",
      "('2010-07-17', 0.02)\n",
      "('2010-07-18', 0.0)\n",
      "('2010-07-19', 0.04)\n",
      "('2010-07-21', 0.0)\n",
      "('2010-07-22', 0.0)\n",
      "('2010-07-24', 0.0)\n",
      "('2010-07-25', 0.0)\n",
      "('2010-07-26', 0.0)\n",
      "('2010-07-27', 0.0)\n",
      "('2010-07-28', 0.0)\n",
      "('2010-07-29', 0.0)\n",
      "('2010-07-30', 0.0)\n",
      "('2010-07-31', 0.02)\n",
      "('2010-08-01', 0.04)\n",
      "('2010-08-02', 0.01)\n",
      "('2010-08-03', 0.02)\n",
      "('2010-08-04', 0.07)\n",
      "('2010-08-05', 0.08)\n",
      "('2010-08-06', 0.03)\n",
      "('2010-08-07', 0.0)\n",
      "('2010-08-08', 0.0)\n",
      "('2010-08-09', 0.0)\n",
      "('2010-08-10', 0.0)\n",
      "('2010-08-11', 0.0)\n",
      "('2010-08-12', 0.0)\n",
      "('2010-08-13', 0.0)\n",
      "('2010-08-14', 0.0)\n",
      "('2010-08-15', 0.01)\n",
      "('2010-08-16', 0.0)\n",
      "('2010-08-17', 0.05)\n",
      "('2010-08-18', 0.0)\n",
      "('2010-08-19', 0.0)\n",
      "('2010-08-20', 0.0)\n",
      "('2010-08-21', 0.0)\n",
      "('2010-08-22', 0.0)\n",
      "('2010-08-23', 0.01)\n",
      "('2010-08-24', 0.0)\n",
      "('2010-08-25', 0.04)\n",
      "('2010-08-26', 0.03)\n",
      "('2010-08-27', 0.0)\n",
      "('2010-08-28', 0.04)\n",
      "('2010-08-29', 0.0)\n",
      "('2010-08-30', 0.0)\n",
      "('2010-08-31', 0.0)\n",
      "('2010-09-01', 0.0)\n",
      "('2010-09-02', 0.02)\n",
      "('2010-09-03', 0.04)\n",
      "('2010-09-04', 0.01)\n",
      "('2010-09-05', 0.0)\n",
      "('2010-09-06', 0.0)\n",
      "('2010-09-07', 0.06)\n",
      "('2010-09-08', 0.0)\n",
      "('2010-09-09', 0.0)\n",
      "('2010-09-10', 0.0)\n",
      "('2010-09-11', 0.05)\n",
      "('2010-09-12', 0.0)\n",
      "('2010-09-13', 0.0)\n",
      "('2010-09-14', 0.0)\n",
      "('2010-09-15', 0.0)\n",
      "('2010-09-16', 0.0)\n",
      "('2010-09-17', 0.0)\n",
      "('2010-09-19', 0.0)\n",
      "('2010-09-20', 0.0)\n",
      "('2010-09-21', 0.0)\n",
      "('2010-09-22', 0.04)\n",
      "('2010-09-23', 0.0)\n",
      "('2010-09-24', 0.0)\n",
      "('2010-09-25', 0.0)\n",
      "('2010-09-26', 0.0)\n",
      "('2010-09-27', 0.0)\n",
      "('2010-09-28', 0.0)\n",
      "('2010-09-29', 0.0)\n",
      "('2010-09-30', 0.57)\n",
      "('2010-10-01', 0.31)\n",
      "('2010-10-02', 0.03)\n",
      "('2010-10-03', 0.0)\n",
      "('2010-10-04', 0.06)\n",
      "('2010-10-05', 0.0)\n",
      "('2010-10-06', 0.0)\n",
      "('2010-10-07', 0.0)\n",
      "('2010-10-08', 0.0)\n",
      "('2010-10-09', 0.0)\n",
      "('2010-10-10', 0.0)\n",
      "('2010-10-11', 0.0)\n",
      "('2010-10-12', 0.0)\n",
      "('2010-10-13', 0.0)\n",
      "('2010-10-15', 0.0)\n",
      "('2010-10-16', 0.0)\n",
      "('2010-10-17', 0.0)\n",
      "('2010-10-18', 0.0)\n",
      "('2010-10-19', 0.07)\n",
      "('2010-10-20', 0.0)\n",
      "('2010-10-21', 0.0)\n",
      "('2010-10-22', 0.0)\n",
      "('2010-10-23', 0.0)\n",
      "('2010-10-24', 0.0)\n",
      "('2010-10-25', 0.0)\n",
      "('2010-10-26', 0.07)\n",
      "('2010-10-27', 0.05)\n",
      "('2010-10-28', 0.06)\n",
      "('2010-10-29', 0.03)\n",
      "('2010-10-30', 0.02)\n",
      "('2010-10-31', 0.0)\n",
      "('2010-11-01', 0.01)\n",
      "('2010-11-02', 0.01)\n",
      "('2010-11-04', None)\n",
      "('2010-11-05', 0.0)\n",
      "('2010-11-06', 0.0)\n",
      "('2010-11-07', 0.0)\n",
      "('2010-11-08', 0.0)\n",
      "('2010-11-09', 0.0)\n",
      "('2010-11-10', 0.23)\n",
      "('2010-11-11', 0.0)\n",
      "('2010-11-12', 0.0)\n",
      "('2010-11-13', 0.0)\n",
      "('2010-11-16', 0.0)\n",
      "('2010-11-17', 0.0)\n",
      "('2010-11-19', None)\n",
      "('2010-11-20', 0.03)\n",
      "('2010-11-21', 0.0)\n",
      "('2010-11-22', 0.0)\n",
      "('2010-11-23', 0.0)\n",
      "('2010-11-24', 0.0)\n",
      "('2010-11-25', 0.0)\n",
      "('2010-11-27', 0.0)\n",
      "('2010-11-28', 0.0)\n",
      "('2010-11-29', 0.0)\n",
      "('2010-11-30', 0.0)\n",
      "('2010-12-01', 0.04)\n",
      "('2010-12-03', 0.0)\n",
      "('2010-12-04', 0.0)\n",
      "('2010-12-06', 0.0)\n",
      "('2010-12-07', 0.0)\n",
      "('2010-12-08', 0.0)\n",
      "('2010-12-09', 0.0)\n",
      "('2010-12-10', 1.58)\n",
      "('2010-12-11', 0.77)\n",
      "('2010-12-12', 0.0)\n",
      "('2010-12-13', 0.0)\n",
      "('2010-12-14', 0.0)\n",
      "('2010-12-15', 0.0)\n",
      "('2010-12-16', 0.0)\n",
      "('2010-12-17', 0.0)\n",
      "('2010-12-18', 0.0)\n",
      "('2010-12-19', 1.4)\n",
      "('2010-12-23', 0.0)\n",
      "('2010-12-24', 0.0)\n",
      "('2010-12-26', None)\n",
      "('2010-12-27', 0.13)\n",
      "('2010-12-28', 0.55)\n",
      "('2010-12-29', 0.06)\n",
      "('2010-12-30', 0.01)\n",
      "('2010-12-31', 0.0)\n",
      "('2011-01-01', 0.0)\n",
      "('2011-01-02', 0.0)\n",
      "('2011-01-03', 0.0)\n",
      "('2011-01-04', 0.0)\n",
      "('2011-01-05', 0.0)\n",
      "('2011-01-06', 0.01)\n",
      "('2011-01-07', 0.0)\n",
      "('2011-01-08', 0.0)\n",
      "('2011-01-09', 0.0)\n",
      "('2011-01-10', 0.0)\n",
      "('2011-01-11', 0.09)\n",
      "('2011-01-13', None)\n",
      "('2011-01-14', 0.03)\n",
      "('2011-01-15', 0.0)\n",
      "('2011-01-16', 0.0)\n",
      "('2011-01-17', 0.0)\n",
      "('2011-01-18', 0.0)\n",
      "('2011-01-19', 0.03)\n",
      "('2011-01-20', 0.0)\n",
      "('2011-01-21', 0.0)\n",
      "('2011-01-22', 0.0)\n",
      "('2011-01-23', 0.0)\n",
      "('2011-01-24', 0.0)\n",
      "('2011-01-25', 0.0)\n",
      "('2011-01-27', 0.0)\n",
      "('2011-01-28', 0.0)\n",
      "('2011-01-29', 0.0)\n",
      "('2011-01-30', 0.0)\n",
      "('2011-01-31', 0.22)\n",
      "('2011-02-01', 0.0)\n",
      "('2011-02-02', 0.0)\n",
      "('2011-02-03', 0.0)\n",
      "('2011-02-04', 0.0)\n",
      "('2011-02-05', 0.0)\n",
      "('2011-02-06', 0.0)\n"
     ]
    }
   ],
   "source": [
    "for result in last_12_months_res:\n",
    "    print(result)"
   ]
  },
  {
   "cell_type": "code",
   "execution_count": 35,
   "metadata": {},
   "outputs": [],
   "source": [
    "# Design a query to retrieve the last 12 months of precipitation data and plot the results. \n",
    "# Starting from the most recent data point in the database. \n",
    "\n",
    "    \n",
    "# Calculate the date one year from the last date in data set.\n",
    "\n",
    "\n",
    "# Perform a query to retrieve the data and precipitation scores\n",
    "\n",
    "\n",
    "# Save the query results as a Pandas DataFrame and set the index to the date column\n",
    "\n",
    "\n",
    "# Sort the dataframe by date\n",
    "\n",
    "\n",
    "# Use Pandas Plotting with Matplotlib to plot the data\n",
    "\n",
    "\n"
   ]
  },
  {
   "cell_type": "code",
   "execution_count": null,
   "metadata": {},
   "outputs": [],
   "source": [
    "# Use Pandas to calcualte the summary statistics for the precipitation data\n"
   ]
  },
  {
   "cell_type": "markdown",
   "metadata": {},
   "source": [
    "# Exploratory Station Analysis"
   ]
  },
  {
   "cell_type": "code",
   "execution_count": null,
   "metadata": {},
   "outputs": [],
   "source": [
    "# Design a query to calculate the total number stations in the dataset\n"
   ]
  },
  {
   "cell_type": "code",
   "execution_count": null,
   "metadata": {},
   "outputs": [],
   "source": [
    "# Design a query to find the most active stations (i.e. what stations have the most rows?)\n",
    "# List the stations and the counts in descending order.\n"
   ]
  },
  {
   "cell_type": "code",
   "execution_count": null,
   "metadata": {},
   "outputs": [],
   "source": [
    "# Using the most active station id from the previous query, calculate the lowest, highest, and average temperature.\n"
   ]
  },
  {
   "cell_type": "code",
   "execution_count": null,
   "metadata": {},
   "outputs": [],
   "source": [
    "# Using the most active station id\n",
    "# Query the last 12 months of temperature observation data for this station and plot the results as a histogram\n"
   ]
  },
  {
   "cell_type": "markdown",
   "metadata": {},
   "source": [
    "# Close session"
   ]
  },
  {
   "cell_type": "code",
   "execution_count": null,
   "metadata": {},
   "outputs": [],
   "source": [
    "# Close Session\n",
    "session.close()"
   ]
  },
  {
   "cell_type": "code",
   "execution_count": null,
   "metadata": {},
   "outputs": [],
   "source": []
  }
 ],
 "metadata": {
  "anaconda-cloud": {},
  "kernel_info": {
   "name": "python3"
  },
  "kernelspec": {
   "display_name": "Python 3",
   "language": "python",
   "name": "python3"
  },
  "language_info": {
   "codemirror_mode": {
    "name": "ipython",
    "version": 3
   },
   "file_extension": ".py",
   "mimetype": "text/x-python",
   "name": "python",
   "nbconvert_exporter": "python",
   "pygments_lexer": "ipython3",
   "version": "3.8.3"
  },
  "nteract": {
   "version": "0.12.3"
  },
  "varInspector": {
   "cols": {
    "lenName": 16,
    "lenType": 16,
    "lenVar": 40
   },
   "kernels_config": {
    "python": {
     "delete_cmd_postfix": "",
     "delete_cmd_prefix": "del ",
     "library": "var_list.py",
     "varRefreshCmd": "print(var_dic_list())"
    },
    "r": {
     "delete_cmd_postfix": ") ",
     "delete_cmd_prefix": "rm(",
     "library": "var_list.r",
     "varRefreshCmd": "cat(var_dic_list()) "
    }
   },
   "types_to_exclude": [
    "module",
    "function",
    "builtin_function_or_method",
    "instance",
    "_Feature"
   ],
   "window_display": false
  }
 },
 "nbformat": 4,
 "nbformat_minor": 2
}
